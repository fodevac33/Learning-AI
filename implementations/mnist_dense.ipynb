{
 "cells": [
  {
   "cell_type": "code",
   "execution_count": 102,
   "id": "5fd56dc2-680d-47c3-9c32-4f85c2031fbc",
   "metadata": {},
   "outputs": [
    {
     "name": "stdout",
     "output_type": "stream",
     "text": [
      "GPU\n"
     ]
    }
   ],
   "source": [
    "from tinygrad import Device\n",
    "print(Device.DEFAULT)"
   ]
  },
  {
   "cell_type": "markdown",
   "id": "ecc714cd",
   "metadata": {},
   "source": [
    "### Data"
   ]
  },
  {
   "cell_type": "code",
   "execution_count": 103,
   "id": "4f80b7d3-0391-4665-af3e-a03a4926eb57",
   "metadata": {},
   "outputs": [
    {
     "name": "stdout",
     "output_type": "stream",
     "text": [
      "(60000, 1, 28, 28) dtypes.uchar (60000,) dtypes.uchar\n"
     ]
    }
   ],
   "source": [
    "from tinygrad import Tensor, nn\n",
    "from tinygrad.nn.datasets import mnist\n",
    "\n",
    "X_train, Y_train, X_test, Y_test = mnist()\n",
    "print(X_train.shape, X_train.dtype, Y_train.shape, Y_train.dtype)"
   ]
  },
  {
   "cell_type": "code",
   "execution_count": 104,
   "id": "f1c76c46",
   "metadata": {},
   "outputs": [
    {
     "data": {
      "text/plain": [
       "((60000, 784), (60000, 10))"
      ]
     },
     "execution_count": 104,
     "metadata": {},
     "output_type": "execute_result"
    }
   ],
   "source": [
    "# Data proprocessing\n",
    "\n",
    "X_train = X_train / X_train.max()\n",
    "X_train = X_train.reshape(X_train.shape[0], -1)\n",
    "\n",
    "Y_train = Y_train.one_hot(10)\n",
    "\n",
    "X_train.shape, Y_train.shape"
   ]
  },
  {
   "cell_type": "code",
   "execution_count": 105,
   "id": "f037d3c6",
   "metadata": {},
   "outputs": [],
   "source": [
    "# Initialization \n",
    "\n",
    "input_shape, hidden_shape, output_shape = X_train.shape[1], 64, Y_train.shape[1]\n",
    "\n",
    "w1 = Tensor.rand(input_shape, hidden_shape)\n",
    "b1 = Tensor.rand(1, hidden_shape)\n",
    "\n",
    "w2 = Tensor.rand(hidden_shape, output_shape)\n",
    "b2 = Tensor.rand(1, output_shape)"
   ]
  },
  {
   "cell_type": "code",
   "execution_count": 106,
   "id": "6e660394",
   "metadata": {},
   "outputs": [],
   "source": [
    "# Forward pass\n",
    "\n",
    "minibatch_size = 32\n",
    "\n",
    "minibatch_idx = Tensor.randint(minibatch_size, low=0, high=X_train.shape[0])\n",
    "minibatch = X_train[minibatch_idx]\n",
    "\n",
    "z1 =  minibatch @ w1 + b1\n",
    "hidden = z1.sigmoid()  \n",
    "\n",
    "logits = hidden @ w2 + b2\n",
    "\n",
    "# Softmax by hand \n",
    "normalized_logits = logits - logits.max(1, keepdim=True)\n",
    "exp_logits = normalized_logits.exp()\n",
    "sum_logits = exp_logits.sum(1, keepdim=True)\n",
    "probs = exp_logits.div(sum_logits)\n",
    "\n",
    "# Loss\n",
    "loss = ((probs - Y_train[minibatch_idx])**2).mean()"
   ]
  },
  {
   "cell_type": "markdown",
   "id": "b8dedc8a",
   "metadata": {},
   "source": [
    "### Manual Backwards Pass"
   ]
  },
  {
   "cell_type": "code",
   "execution_count": 108,
   "id": "3d59a889",
   "metadata": {},
   "outputs": [],
   "source": [
    "# Function for comparing gradients by tinygrad to my calculated gradients\n",
    "\n",
    "def compare_gradients(name, gradient, tensor, previous):\n",
    "  exact = (gradient - tensor.gradient(previous)).all()\n",
    "\n",
    "  print(f'{s:15s} | exact: {str(ex):5s}')"
   ]
  },
  {
   "cell_type": "markdown",
   "id": "88998614",
   "metadata": {},
   "source": [
    "In this case our loss is:\n",
    "$$\n",
    "L = \\frac{1}{N}\\sum_{i=1}^{N}(\\hat{\\mathbf{y}}_{i}-\\mathbf{y}_{i})^{2}\n",
    "$$\n",
    "In turn, if we solve for the derivative with respect to the probabilities our model gives us we get: \n",
    "$$\n",
    "\\frac{ \\partial L }{ \\partial  \\hat{\\mathbf{y}_{i}} } = \\frac{2}{N}  (\\hat{\\mathbf{y}_{i}}-\\mathbf{y}_{i})\n",
    "$$\n",
    "\n",
    "Since $\\hat{\\mathbf{y}}$ or `probs`is a $32 \\times 10$ tensor (batch size x classes), `dprobs` ($\\frac{ \\partial L }{ \\partial  \\hat{\\mathbf{y}} }$) should have the same shape  but with each element scaled by $\\frac{1}{N}$ due to the mean operation."
   ]
  },
  {
   "cell_type": "code",
   "execution_count": 109,
   "id": "90354f8c",
   "metadata": {},
   "outputs": [
    {
     "ename": "RuntimeError",
     "evalue": "UOp(Ops.MUL, dtypes.float, arg=None, src=(\n  UOp(Ops.EXP2, dtypes.float, arg=None, src=(\n    UOp(Ops.MUL, dtypes.float, arg=None, src=(\n      UOp(Ops.ADD, dtypes.float, arg=None, src=(\n        UOp(Ops.RESHAPE, dtypes.float, arg=(32, 10), src=(\n          UOp(Ops.BUFFER, dtypes.float, arg=320, src=(\n            x5:=UOp(Ops.DEVICE, dtypes.void, arg='GPU', src=()),\n            UOp(Ops.UNIQUE, dtypes.void, arg=456, src=()),)),)),\n        UOp(Ops.MUL, dtypes.float, arg=None, src=(\n          UOp(Ops.EXPAND, dtypes.float, arg=(32, 10), src=(\n            UOp(Ops.RESHAPE, dtypes.float, arg=(32, 1), src=(\n              UOp(Ops.BUFFER, dtypes.float, arg=32, src=(\n                 x5,\n                UOp(Ops.UNIQUE, dtypes.void, arg=487, src=()),)),)),)),\n          UOp(Ops.CONST, dtypes.float, arg=-1.0, src=(\n            x13:=UOp(Ops.VIEW, dtypes.void, arg=ShapeTracker(views=(View(shape=(32, 10), strides=(0, 0), offset=0, mask=None, contiguous=False),)), src=(\n               x5,)),)),)),)),\n      UOp(Ops.CONST, dtypes.float, arg=1.4426950408889634, src=(\n         x13,)),)),)),\n  UOp(Ops.RECIP, dtypes.float, arg=None, src=(\n    UOp(Ops.EXPAND, dtypes.float, arg=(32, 10), src=(\n      UOp(Ops.RESHAPE, dtypes.float, arg=(32, 1), src=(\n        UOp(Ops.BUFFER, dtypes.float, arg=32, src=(\n           x5,\n          UOp(Ops.UNIQUE, dtypes.void, arg=488, src=()),)),)),)),)),))\n\nnot found in\n\nUOp(Ops.MUL, dtypes.float, arg=None, src=(\n  UOp(Ops.RESHAPE, dtypes.float, arg=(), src=(\n    UOp(Ops.REDUCE_AXIS, dtypes.float, arg=(Ops.ADD, (0, 1)), src=(\n      UOp(Ops.POW, dtypes.float, arg=None, src=(\n        UOp(Ops.RESHAPE, dtypes.float, arg=(32, 10), src=(\n          UOp(Ops.BUFFER, dtypes.float, arg=320, src=(\n            x5:=UOp(Ops.DEVICE, dtypes.void, arg='GPU', src=()),\n            UOp(Ops.UNIQUE, dtypes.void, arg=497, src=()),)),)),\n        UOp(Ops.CONST, dtypes.float, arg=2.0, src=(\n          UOp(Ops.VIEW, dtypes.void, arg=ShapeTracker(views=(View(shape=(32, 10), strides=(0, 0), offset=0, mask=None, contiguous=False),)), src=(\n             x5,)),)),)),)),)),\n  UOp(Ops.CONST, dtypes.float, arg=0.003125, src=(\n    UOp(Ops.VIEW, dtypes.void, arg=ShapeTracker(views=(View(shape=(), strides=(), offset=0, mask=None, contiguous=True),)), src=(\n       x5,)),)),))",
     "output_type": "error",
     "traceback": [
      "\u001b[31m---------------------------------------------------------------------------\u001b[39m",
      "\u001b[31mRuntimeError\u001b[39m                              Traceback (most recent call last)",
      "\u001b[36mCell\u001b[39m\u001b[36m \u001b[39m\u001b[32mIn[109]\u001b[39m\u001b[32m, line 6\u001b[39m\n\u001b[32m      3\u001b[39m N = minibatch_size * output_shape  \u001b[38;5;66;03m# 32 * 10 = 320\u001b[39;00m\n\u001b[32m      4\u001b[39m dprobs = \u001b[32m2\u001b[39m * (probs - Y_train[minibatch_idx]) / N\n\u001b[32m----> \u001b[39m\u001b[32m6\u001b[39m \u001b[43mcompare_gradients\u001b[49m\u001b[43m(\u001b[49m\u001b[33;43m\"\u001b[39;49m\u001b[33;43mprobs\u001b[39;49m\u001b[33;43m\"\u001b[39;49m\u001b[43m,\u001b[49m\u001b[43m \u001b[49m\u001b[43mdprobs\u001b[49m\u001b[43m,\u001b[49m\u001b[43m \u001b[49m\u001b[43mloss\u001b[49m\u001b[43m,\u001b[49m\u001b[43m \u001b[49m\u001b[43mprobs\u001b[49m\u001b[43m)\u001b[49m\n",
      "\u001b[36mCell\u001b[39m\u001b[36m \u001b[39m\u001b[32mIn[108]\u001b[39m\u001b[32m, line 4\u001b[39m, in \u001b[36mcompare_gradients\u001b[39m\u001b[34m(name, gradient, tensor, previous)\u001b[39m\n\u001b[32m      3\u001b[39m \u001b[38;5;28;01mdef\u001b[39;00m\u001b[38;5;250m \u001b[39m\u001b[34mcompare_gradients\u001b[39m(name, gradient, tensor, previous):\n\u001b[32m----> \u001b[39m\u001b[32m4\u001b[39m   exact = (gradient - \u001b[43mtensor\u001b[49m\u001b[43m.\u001b[49m\u001b[43mgradient\u001b[49m\u001b[43m(\u001b[49m\u001b[43mprevious\u001b[49m\u001b[43m)\u001b[49m).all()\n\u001b[32m      6\u001b[39m   \u001b[38;5;28mprint\u001b[39m(\u001b[33mf\u001b[39m\u001b[33m'\u001b[39m\u001b[38;5;132;01m{\u001b[39;00ms\u001b[38;5;132;01m:\u001b[39;00m\u001b[33m15s\u001b[39m\u001b[38;5;132;01m}\u001b[39;00m\u001b[33m | exact: \u001b[39m\u001b[38;5;132;01m{\u001b[39;00m\u001b[38;5;28mstr\u001b[39m(ex)\u001b[38;5;132;01m:\u001b[39;00m\u001b[33m5s\u001b[39m\u001b[38;5;132;01m}\u001b[39;00m\u001b[33m'\u001b[39m)\n",
      "\u001b[36mFile \u001b[39m\u001b[32m~/Documents/Obsidian/ML/repo/.venv/lib/python3.12/site-packages/tinygrad/tensor.py:914\u001b[39m, in \u001b[36mTensor.gradient\u001b[39m\u001b[34m(self, gradient, materialize_grads, *targets)\u001b[39m\n\u001b[32m    912\u001b[39m   \u001b[38;5;28;01mif\u001b[39;00m (y:=grads.get(x)) \u001b[38;5;129;01mis\u001b[39;00m \u001b[38;5;28;01mNone\u001b[39;00m:\n\u001b[32m    913\u001b[39m     \u001b[38;5;28;01mif\u001b[39;00m materialize_grads: y = x.const_like(\u001b[32m0\u001b[39m)\n\u001b[32m--> \u001b[39m\u001b[32m914\u001b[39m     \u001b[38;5;28;01melse\u001b[39;00m: \u001b[38;5;28;01mraise\u001b[39;00m \u001b[38;5;167;01mRuntimeError\u001b[39;00m(\u001b[33mf\u001b[39m\u001b[33m\"\u001b[39m\u001b[38;5;132;01m{\u001b[39;00mx\u001b[38;5;132;01m}\u001b[39;00m\u001b[38;5;130;01m\\n\u001b[39;00m\u001b[38;5;130;01m\\n\u001b[39;00m\u001b[33mnot found in\u001b[39m\u001b[38;5;130;01m\\n\u001b[39;00m\u001b[38;5;130;01m\\n\u001b[39;00m\u001b[38;5;132;01m{\u001b[39;00m\u001b[38;5;28mself\u001b[39m.lazydata\u001b[38;5;132;01m}\u001b[39;00m\u001b[33m\"\u001b[39m)\n\u001b[32m    915\u001b[39m   ret.append(y)\n\u001b[32m    916\u001b[39m rets.append(ret)\n",
      "\u001b[31mRuntimeError\u001b[39m: UOp(Ops.MUL, dtypes.float, arg=None, src=(\n  UOp(Ops.EXP2, dtypes.float, arg=None, src=(\n    UOp(Ops.MUL, dtypes.float, arg=None, src=(\n      UOp(Ops.ADD, dtypes.float, arg=None, src=(\n        UOp(Ops.RESHAPE, dtypes.float, arg=(32, 10), src=(\n          UOp(Ops.BUFFER, dtypes.float, arg=320, src=(\n            x5:=UOp(Ops.DEVICE, dtypes.void, arg='GPU', src=()),\n            UOp(Ops.UNIQUE, dtypes.void, arg=456, src=()),)),)),\n        UOp(Ops.MUL, dtypes.float, arg=None, src=(\n          UOp(Ops.EXPAND, dtypes.float, arg=(32, 10), src=(\n            UOp(Ops.RESHAPE, dtypes.float, arg=(32, 1), src=(\n              UOp(Ops.BUFFER, dtypes.float, arg=32, src=(\n                 x5,\n                UOp(Ops.UNIQUE, dtypes.void, arg=487, src=()),)),)),)),\n          UOp(Ops.CONST, dtypes.float, arg=-1.0, src=(\n            x13:=UOp(Ops.VIEW, dtypes.void, arg=ShapeTracker(views=(View(shape=(32, 10), strides=(0, 0), offset=0, mask=None, contiguous=False),)), src=(\n               x5,)),)),)),)),\n      UOp(Ops.CONST, dtypes.float, arg=1.4426950408889634, src=(\n         x13,)),)),)),\n  UOp(Ops.RECIP, dtypes.float, arg=None, src=(\n    UOp(Ops.EXPAND, dtypes.float, arg=(32, 10), src=(\n      UOp(Ops.RESHAPE, dtypes.float, arg=(32, 1), src=(\n        UOp(Ops.BUFFER, dtypes.float, arg=32, src=(\n           x5,\n          UOp(Ops.UNIQUE, dtypes.void, arg=488, src=()),)),)),)),)),))\n\nnot found in\n\nUOp(Ops.MUL, dtypes.float, arg=None, src=(\n  UOp(Ops.RESHAPE, dtypes.float, arg=(), src=(\n    UOp(Ops.REDUCE_AXIS, dtypes.float, arg=(Ops.ADD, (0, 1)), src=(\n      UOp(Ops.POW, dtypes.float, arg=None, src=(\n        UOp(Ops.RESHAPE, dtypes.float, arg=(32, 10), src=(\n          UOp(Ops.BUFFER, dtypes.float, arg=320, src=(\n            x5:=UOp(Ops.DEVICE, dtypes.void, arg='GPU', src=()),\n            UOp(Ops.UNIQUE, dtypes.void, arg=497, src=()),)),)),\n        UOp(Ops.CONST, dtypes.float, arg=2.0, src=(\n          UOp(Ops.VIEW, dtypes.void, arg=ShapeTracker(views=(View(shape=(32, 10), strides=(0, 0), offset=0, mask=None, contiguous=False),)), src=(\n             x5,)),)),)),)),)),\n  UOp(Ops.CONST, dtypes.float, arg=0.003125, src=(\n    UOp(Ops.VIEW, dtypes.void, arg=ShapeTracker(views=(View(shape=(), strides=(), offset=0, mask=None, contiguous=True),)), src=(\n       x5,)),)),))"
     ]
    }
   ],
   "source": [
    "# Manual backward pass\n",
    "\n",
    "N = minibatch_size * output_shape  # 32 * 10 = 320\n",
    "dprobs = 2 * (probs - Y_train[minibatch_idx]) / N\n",
    "\n",
    "compare_gradients(\"probs\", dprobs, loss, probs)\n",
    "\n",
    "\n"
   ]
  },
  {
   "cell_type": "code",
   "execution_count": null,
   "id": "d3751295",
   "metadata": {},
   "outputs": [],
   "source": []
  }
 ],
 "metadata": {
  "kernelspec": {
   "display_name": ".venv",
   "language": "python",
   "name": "python3"
  },
  "language_info": {
   "codemirror_mode": {
    "name": "ipython",
    "version": 3
   },
   "file_extension": ".py",
   "mimetype": "text/x-python",
   "name": "python",
   "nbconvert_exporter": "python",
   "pygments_lexer": "ipython3",
   "version": "3.12.2"
  }
 },
 "nbformat": 4,
 "nbformat_minor": 5
}
